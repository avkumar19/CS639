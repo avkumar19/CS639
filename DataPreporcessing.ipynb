{
  "cells": [
    {
      "cell_type": "markdown",
      "metadata": {
        "id": "view-in-github",
        "colab_type": "text"
      },
      "source": [
        "<a href=\"https://colab.research.google.com/github/avkumar19/CS639/blob/main/DataPreporcessing.ipynb\" target=\"_parent\"><img src=\"https://colab.research.google.com/assets/colab-badge.svg\" alt=\"Open In Colab\"/></a>"
      ]
    },
    {
      "cell_type": "markdown",
      "source": [
        "How to Create the Data set?"
      ],
      "metadata": {
        "id": "-7MdudcSj9xT"
      }
    },
    {
      "cell_type": "code",
      "source": [
        "#Clone the GT and Real images from the Kaggle links\n",
        "#GT = https://www.kaggle.com/datasets/vbookshelf/art-by-ai-neural-style-transfer\n",
        "#RealImages = https://www.kaggle.com/datasets/laurentmih/aisegmentcom-matting-human-datasets\n",
        "\n",
        "#Update the below paths as per the Downloaded DIR path\n",
        "#Please download the Mapping file newfile.txt from the  Curr Repo"
      ],
      "metadata": {
        "id": "Pa1yNrhCkHwC"
      },
      "execution_count": 1,
      "outputs": []
    },
    {
      "cell_type": "code",
      "execution_count": null,
      "metadata": {
        "id": "kJ0PeBgMPyXH"
      },
      "outputs": [],
      "source": [
        "list_path = '/content/drive/MyDrive/CS639/GT/content_images/newfile.txt'\n",
        "DestPath = '/content/drive/MyDrive/CS639/GT/content_images/Test_Original/'\n",
        "DestPath_256 = '/content/drive/MyDrive/CS639/GT/content_images/Test_256/'\n",
        "input_path = \"/content/drive/MyDrive/CS639/clip_img/\""
      ]
    },
    {
      "cell_type": "code",
      "execution_count": null,
      "metadata": {
        "id": "5GCJqgFbVhBc"
      },
      "outputs": [],
      "source": [
        "# Using readlines()\n",
        "file1 = open(list_path, 'r')\n",
        "Lines = file1.readlines()\n",
        "import cv2 \n",
        "count = 0\n",
        "# Strips the newline character\n",
        "for line in Lines:\n",
        "    fileId = line.strip()\n",
        "    folderID = fileId.split('-')[0]\n",
        "    input_image_path = input_path+folderID+'/clip_00000000/'+fileId\n",
        "    input_image = cv2.imread(input_image_path)\n",
        "    resize_i = cv2.resize(input_image,(256, 256))\n",
        "    cv2.imwrite(DestPath_256+fileId, resize_i)\n",
        "    cv2.imwrite(DestPath+fileId, input_image)\n",
        "    print(DestPath+fileId)"
      ]
    }
  ],
  "metadata": {
    "colab": {
      "provenance": [],
      "mount_file_id": "1Rqlz3ZInpv0VETawweCGYabTt8tnjs3i",
      "authorship_tag": "ABX9TyPTCr9HutXqCdIW/XBUk2UG",
      "include_colab_link": true
    },
    "kernelspec": {
      "display_name": "Python 3",
      "name": "python3"
    },
    "language_info": {
      "name": "python"
    },
    "accelerator": "GPU",
    "gpuClass": "standard"
  },
  "nbformat": 4,
  "nbformat_minor": 0
}